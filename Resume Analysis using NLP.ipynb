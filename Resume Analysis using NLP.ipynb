{
 "cells": [
  {
   "cell_type": "markdown",
   "id": "appropriate-consumer",
   "metadata": {},
   "source": [
    "### Part - 1 SpellCheker and Simmilarity Scores"
   ]
  },
  {
   "cell_type": "markdown",
   "id": "provincial-exhibition",
   "metadata": {},
   "source": [
    "#### Installing the required packages"
   ]
  },
  {
   "cell_type": "code",
   "execution_count": 11,
   "id": "forty-directive",
   "metadata": {},
   "outputs": [],
   "source": [
    "import PyPDF2\n",
    "import textract\n",
    "import docx2txt"
   ]
  },
  {
   "cell_type": "code",
   "execution_count": 12,
   "id": "equivalent-carolina",
   "metadata": {},
   "outputs": [],
   "source": [
    "import pandas as pd\n",
    "import matplotlib.pyplot as plt\n",
    "%matplotlib inline"
   ]
  },
  {
   "cell_type": "code",
   "execution_count": 13,
   "id": "incorporated-firewall",
   "metadata": {},
   "outputs": [],
   "source": [
    "from sklearn.metrics.pairwise import cosine_similarity\n",
    "from sklearn.feature_extraction.text import CountVectorizer "
   ]
  },
  {
   "cell_type": "markdown",
   "id": "stupid-topic",
   "metadata": {},
   "source": [
    "#### Resumes we are going to use during our analysis"
   ]
  },
  {
   "cell_type": "code",
   "execution_count": 4,
   "id": "leading-lottery",
   "metadata": {},
   "outputs": [],
   "source": [
    "resume=docx2txt.process(\"D:\\FullTime-Application\\ResumeCollection\\CV-SurajPatil-2024.docx\")"
   ]
  },
  {
   "cell_type": "markdown",
   "id": "detected-exhaust",
   "metadata": {},
   "source": [
    "#### Job Description can be entered by the user"
   ]
  },
  {
   "cell_type": "code",
   "execution_count": 5,
   "id": "golden-counter",
   "metadata": {},
   "outputs": [],
   "source": [
    "#Prompt for the Job description.\n",
    "jd = input(\"Enter the job description: \")  "
   ]
  },
  {
   "cell_type": "markdown",
   "id": "surface-dancing",
   "metadata": {},
   "source": [
    "#### Function to get similarity score between resume and JD with the help of cosine similarity"
   ]
  },
  {
   "cell_type": "code",
   "execution_count": 6,
   "id": "attractive-screening",
   "metadata": {},
   "outputs": [],
   "source": [
    "def get_similarity(resume, jd):\n",
    "    res = ''.join([i for i in resume if not i.isdigit()])\n",
    "    res_jd=[res, jd]\n",
    "    cntv = CountVectorizer()\n",
    "    count_matrix = cntv.fit_transform(res_jd)\n",
    "    percentage = round((cosine_similarity(count_matrix)[0][1] * 100),2)\n",
    "    return percentage"
   ]
  },
  {
   "cell_type": "markdown",
   "id": "parallel-voltage",
   "metadata": {},
   "source": [
    "#### Similarity score of first applicant"
   ]
  },
  {
   "cell_type": "code",
   "execution_count": 35,
   "id": "cf6addc2",
   "metadata": {},
   "outputs": [
    {
     "name": "stdout",
     "output_type": "stream",
     "text": [
      "Note: you may need to restart the kernel to use updated packages.\n"
     ]
    },
    {
     "name": "stderr",
     "output_type": "stream",
     "text": [
      "ERROR: Could not find a version that satisfies the requirement st-radial (from versions: none)\n",
      "ERROR: No matching distribution found for st-radial\n"
     ]
    }
   ],
   "source": [
    "pip install st-radial\n"
   ]
  },
  {
   "cell_type": "code",
   "execution_count": 7,
   "id": "rational-bahamas",
   "metadata": {},
   "outputs": [
    {
     "name": "stdout",
     "output_type": "stream",
     "text": [
      "\n",
      "Similarity Scores: between resume  and Job Description is  49.21\n"
     ]
    }
   ],
   "source": [
    "per=get_similarity(resume,jd)\n",
    "print(\"\\nSimilarity Scores: Between Resume  and Job Description is \",per) "
   ]
  },
  {
   "cell_type": "markdown",
   "id": "behavioral-article",
   "metadata": {},
   "source": [
    "#### Used Jaccard distance as a dissimmilarity measure to see how different the resume and JD are"
   ]
  },
  {
   "cell_type": "code",
   "execution_count": 8,
   "id": "smoking-filename",
   "metadata": {},
   "outputs": [
    {
     "name": "stdout",
     "output_type": "stream",
     "text": [
      "\n",
      "  Jaccard  :   0.5294117647058824\n"
     ]
    }
   ],
   "source": [
    "def jaccard_distance(resume,jd):\n",
    "    intersection=len(set.intersection(*[set(resume),set(jd)]))\n",
    "    union=len(set.union(*[set(resume),set(jd)]))\n",
    "    return intersection/float(union)\n",
    "b=jaccard_distance(resume,jd) \n",
    "\n",
    "print('\\n  Jaccard  :  ', b)  "
   ]
  },
  {
   "cell_type": "markdown",
   "id": "stuffed-nursery",
   "metadata": {},
   "source": [
    "#### Function to do SpellCheker in the resume"
   ]
  },
  {
   "cell_type": "code",
   "execution_count": 9,
   "id": "final-dubai",
   "metadata": {},
   "outputs": [],
   "source": [
    "from spellchecker import SpellChecker\n",
    "spell = SpellChecker()"
   ]
  },
  {
   "cell_type": "code",
   "execution_count": 11,
   "id": "departmental-floating",
   "metadata": {},
   "outputs": [],
   "source": [
    "def spell_check(list):\n",
    "    spell_mistake= False\n",
    "    for i in list:\n",
    "        if i.isalpha()==True:\n",
    "            if i[0].isupper():\n",
    "                exit\n",
    "            else:\n",
    "                i=i.lower()\n",
    "                word=spell.correction(i)\n",
    "                if i!= word:\n",
    "                    print('wrong spelling: ',i,'\\nSuggestions are as follow :',word)\n",
    "                    spell_mistake= True\n",
    "    if spell_mistake==False:\n",
    "        print('No spelling mistakes, good to go..') "
   ]
  },
  {
   "cell_type": "code",
   "execution_count": 12,
   "id": "straight-thinking",
   "metadata": {},
   "outputs": [],
   "source": [
    "word = resume.split()"
   ]
  },
  {
   "cell_type": "code",
   "execution_count": 13,
   "id": "descending-testing",
   "metadata": {
    "scrolled": true
   },
   "outputs": [
    {
     "name": "stdout",
     "output_type": "stream",
     "text": [
      "wrong spelling:  workﬂow \n",
      "Suggestions are as follow : worktop\n"
     ]
    }
   ],
   "source": [
    "spell_check(word)"
   ]
  },
  {
   "cell_type": "markdown",
   "id": "appropriate-highlight",
   "metadata": {},
   "source": [
    "### Part - 2 Summarizing Resume and Finding Important Keywords"
   ]
  },
  {
   "cell_type": "markdown",
   "id": "complex-maple",
   "metadata": {},
   "source": [
    "#### Libraries required for summarizing the resume"
   ]
  },
  {
   "cell_type": "code",
   "execution_count": 20,
   "id": "disciplinary-expense",
   "metadata": {},
   "outputs": [
    {
     "ename": "ImportError",
     "evalue": "cannot import name 'Mapping' from 'collections' (c:\\Users\\Suraj\\AppData\\Local\\Programs\\Python\\Python311\\Lib\\collections\\__init__.py)",
     "output_type": "error",
     "traceback": [
      "\u001b[1;31m---------------------------------------------------------------------------\u001b[0m",
      "\u001b[1;31mImportError\u001b[0m                               Traceback (most recent call last)",
      "Cell \u001b[1;32mIn[20], line 1\u001b[0m\n\u001b[1;32m----> 1\u001b[0m \u001b[38;5;28;01mfrom\u001b[39;00m \u001b[38;5;21;01mgensim\u001b[39;00m\u001b[38;5;21;01m.\u001b[39;00m\u001b[38;5;21;01msummarization\u001b[39;00m\u001b[38;5;21;01m.\u001b[39;00m\u001b[38;5;21;01msummarizer\u001b[39;00m \u001b[38;5;28;01mimport\u001b[39;00m summarize\n\u001b[0;32m      2\u001b[0m \u001b[38;5;28;01mfrom\u001b[39;00m \u001b[38;5;21;01mgensim\u001b[39;00m\u001b[38;5;21;01m.\u001b[39;00m\u001b[38;5;21;01msummarization\u001b[39;00m \u001b[38;5;28;01mimport\u001b[39;00m keywords\n",
      "File \u001b[1;32mc:\\Users\\Suraj\\AppData\\Local\\Programs\\Python\\Python311\\Lib\\site-packages\\gensim\\__init__.py:5\u001b[0m\n\u001b[0;32m      1\u001b[0m \u001b[38;5;124;03m\"\"\"This package contains interfaces and functionality to compute pair-wise document similarities within a corpus\u001b[39;00m\n\u001b[0;32m      2\u001b[0m \u001b[38;5;124;03mof documents.\u001b[39;00m\n\u001b[0;32m      3\u001b[0m \u001b[38;5;124;03m\"\"\"\u001b[39;00m\n\u001b[1;32m----> 5\u001b[0m \u001b[38;5;28;01mfrom\u001b[39;00m \u001b[38;5;21;01mgensim\u001b[39;00m \u001b[38;5;28;01mimport\u001b[39;00m parsing, corpora, matutils, interfaces, models, similarities, summarization, utils  \u001b[38;5;66;03m# noqa:F401\u001b[39;00m\n\u001b[0;32m      6\u001b[0m \u001b[38;5;28;01mimport\u001b[39;00m \u001b[38;5;21;01mlogging\u001b[39;00m\n\u001b[0;32m      8\u001b[0m __version__ \u001b[38;5;241m=\u001b[39m \u001b[38;5;124m'\u001b[39m\u001b[38;5;124m3.6.0\u001b[39m\u001b[38;5;124m'\u001b[39m\n",
      "File \u001b[1;32mc:\\Users\\Suraj\\AppData\\Local\\Programs\\Python\\Python311\\Lib\\site-packages\\gensim\\corpora\\__init__.py:12\u001b[0m\n\u001b[0;32m     10\u001b[0m \u001b[38;5;28;01mfrom\u001b[39;00m \u001b[38;5;21;01m.\u001b[39;00m\u001b[38;5;21;01msvmlightcorpus\u001b[39;00m \u001b[38;5;28;01mimport\u001b[39;00m SvmLightCorpus  \u001b[38;5;66;03m# noqa:F401\u001b[39;00m\n\u001b[0;32m     11\u001b[0m \u001b[38;5;28;01mfrom\u001b[39;00m \u001b[38;5;21;01m.\u001b[39;00m\u001b[38;5;21;01mlowcorpus\u001b[39;00m \u001b[38;5;28;01mimport\u001b[39;00m LowCorpus  \u001b[38;5;66;03m# noqa:F401\u001b[39;00m\n\u001b[1;32m---> 12\u001b[0m \u001b[38;5;28;01mfrom\u001b[39;00m \u001b[38;5;21;01m.\u001b[39;00m\u001b[38;5;21;01mdictionary\u001b[39;00m \u001b[38;5;28;01mimport\u001b[39;00m Dictionary  \u001b[38;5;66;03m# noqa:F401\u001b[39;00m\n\u001b[0;32m     13\u001b[0m \u001b[38;5;28;01mfrom\u001b[39;00m \u001b[38;5;21;01m.\u001b[39;00m\u001b[38;5;21;01mhashdictionary\u001b[39;00m \u001b[38;5;28;01mimport\u001b[39;00m HashDictionary  \u001b[38;5;66;03m# noqa:F401\u001b[39;00m\n\u001b[0;32m     14\u001b[0m \u001b[38;5;28;01mfrom\u001b[39;00m \u001b[38;5;21;01m.\u001b[39;00m\u001b[38;5;21;01mwikicorpus\u001b[39;00m \u001b[38;5;28;01mimport\u001b[39;00m WikiCorpus  \u001b[38;5;66;03m# noqa:F401\u001b[39;00m\n",
      "File \u001b[1;32mc:\\Users\\Suraj\\AppData\\Local\\Programs\\Python\\Python311\\Lib\\site-packages\\gensim\\corpora\\dictionary.py:11\u001b[0m\n\u001b[0;32m      7\u001b[0m \u001b[38;5;124;03m\"\"\"This module implements the concept of a Dictionary -- a mapping between words and their integer ids.\"\"\"\u001b[39;00m\n\u001b[0;32m      9\u001b[0m \u001b[38;5;28;01mfrom\u001b[39;00m \u001b[38;5;21;01m__future__\u001b[39;00m \u001b[38;5;28;01mimport\u001b[39;00m with_statement\n\u001b[1;32m---> 11\u001b[0m \u001b[38;5;28;01mfrom\u001b[39;00m \u001b[38;5;21;01mcollections\u001b[39;00m \u001b[38;5;28;01mimport\u001b[39;00m Mapping, defaultdict\n\u001b[0;32m     12\u001b[0m \u001b[38;5;28;01mimport\u001b[39;00m \u001b[38;5;21;01msys\u001b[39;00m\n\u001b[0;32m     13\u001b[0m \u001b[38;5;28;01mimport\u001b[39;00m \u001b[38;5;21;01mlogging\u001b[39;00m\n",
      "\u001b[1;31mImportError\u001b[0m: cannot import name 'Mapping' from 'collections' (c:\\Users\\Suraj\\AppData\\Local\\Programs\\Python\\Python311\\Lib\\collections\\__init__.py)"
     ]
    }
   ],
   "source": [
    "from gensim.summarization.summarizer import summarize\n",
    "from gensim.summarization import keywords"
   ]
  },
  {
   "cell_type": "markdown",
   "id": "pacific-aquatic",
   "metadata": {},
   "source": [
    "#### Summarizing resume"
   ]
  },
  {
   "cell_type": "code",
   "execution_count": 21,
   "id": "passive-acting",
   "metadata": {},
   "outputs": [
    {
     "ename": "NameError",
     "evalue": "name 'summarize' is not defined",
     "output_type": "error",
     "traceback": [
      "\u001b[1;31m---------------------------------------------------------------------------\u001b[0m",
      "\u001b[1;31mNameError\u001b[0m                                 Traceback (most recent call last)",
      "Cell \u001b[1;32mIn[21], line 2\u001b[0m\n\u001b[0;32m      1\u001b[0m text_resume \u001b[38;5;241m=\u001b[39m \u001b[38;5;28mstr\u001b[39m(resume)\n\u001b[1;32m----> 2\u001b[0m resume \u001b[38;5;241m=\u001b[39m \u001b[43msummarize\u001b[49m(text_resume, ratio\u001b[38;5;241m=\u001b[39m\u001b[38;5;241m0.1\u001b[39m)\n\u001b[0;32m      3\u001b[0m \u001b[38;5;28mprint\u001b[39m(resume)\n",
      "\u001b[1;31mNameError\u001b[0m: name 'summarize' is not defined"
     ]
    }
   ],
   "source": [
    "text_resume = str(resume)\n",
    "resume = summarize(text_resume, ratio=0.1)\n",
    "print(resume)"
   ]
  },
  {
   "cell_type": "markdown",
   "id": "5c2238aa",
   "metadata": {},
   "source": [
    "Highly determined Data Science graduate having 2+ years of experience using Machine Learning and NLP to solve challenging business problems.\n",
    "Strong proficiency in R, Python, SQL, and Tableau using which I have leveraged large-scale real-time data in making impactful business decisions.\n",
    "Software Tools\t: Big Data(Hadoop, Spark, Map Reduce, HBase), MS Excel, MySQL, R, Scikit-learn \n",
    "Analytics/Visualization : Statistics, Machine Learning, Text Mining (NLP), Deep Learning, Tableau, Power BI, Time Series Analysis\n",
    "Academic Courses         : Data Mining, Statistical Analysis, Machine Learning, Cloud Computing, Data Visualization, Advanced Text Mining \n"
   ]
  },
  {
   "cell_type": "markdown",
   "id": "later-exclusive",
   "metadata": {},
   "source": [
    "#### Performed feature extraction with the help of count vectorizer"
   ]
  },
  {
   "cell_type": "code",
   "execution_count": 22,
   "id": "renewable-flood",
   "metadata": {},
   "outputs": [],
   "source": [
    "text_list = [resume, jd]\n",
    "from sklearn.feature_extraction.text import CountVectorizer\n",
    "cv = CountVectorizer()\n",
    "count_matrix = cv.fit_transform(text_list)"
   ]
  },
  {
   "cell_type": "code",
   "execution_count": 23,
   "id": "beneficial-treasury",
   "metadata": {},
   "outputs": [
    {
     "data": {
      "text/plain": [
       "<2x397 sparse matrix of type '<class 'numpy.int64'>'\n",
       "\twith 418 stored elements in Compressed Sparse Row format>"
      ]
     },
     "execution_count": 23,
     "metadata": {},
     "output_type": "execute_result"
    }
   ],
   "source": [
    "count_matrix"
   ]
  },
  {
   "cell_type": "code",
   "execution_count": 24,
   "id": "medieval-cleaners",
   "metadata": {},
   "outputs": [
    {
     "name": "stdout",
     "output_type": "stream",
     "text": [
      "[[1.         0.48279454]\n",
      " [0.48279454 1.        ]]\n"
     ]
    }
   ],
   "source": [
    "from sklearn.metrics.pairwise import cosine_similarity\n",
    "matchPercentage = cosine_similarity(count_matrix)\n",
    "print(matchPercentage)"
   ]
  },
  {
   "cell_type": "code",
   "execution_count": 25,
   "id": "backed-memphis",
   "metadata": {},
   "outputs": [
    {
     "name": "stdout",
     "output_type": "stream",
     "text": [
      "Your resume matches about 48.28% of the job description.\n"
     ]
    }
   ],
   "source": [
    "# get the match percentage\n",
    "matchPercentage = cosine_similarity(count_matrix)[0][1] * 100\n",
    "matchPercentage = round(matchPercentage, 2) \n",
    "print(\"Your resume matches about \"+ str(matchPercentage)+ \"% of the job description.\")"
   ]
  },
  {
   "cell_type": "markdown",
   "id": "binary-jewelry",
   "metadata": {},
   "source": [
    "#### Extracted important keywords from JD and resume "
   ]
  },
  {
   "cell_type": "code",
   "execution_count": 26,
   "id": "proprietary-deadline",
   "metadata": {},
   "outputs": [
    {
     "ename": "NameError",
     "evalue": "name 'keywords' is not defined",
     "output_type": "error",
     "traceback": [
      "\u001b[1;31m---------------------------------------------------------------------------\u001b[0m",
      "\u001b[1;31mNameError\u001b[0m                                 Traceback (most recent call last)",
      "Cell \u001b[1;32mIn[26], line 1\u001b[0m\n\u001b[1;32m----> 1\u001b[0m a \u001b[38;5;241m=\u001b[39m \u001b[43mkeywords\u001b[49m(jd, ratio\u001b[38;5;241m=\u001b[39m\u001b[38;5;241m0.7\u001b[39m)\n\u001b[0;32m      2\u001b[0m a\n",
      "\u001b[1;31mNameError\u001b[0m: name 'keywords' is not defined"
     ]
    }
   ],
   "source": [
    "a = keywords(jd, ratio=0.7)\n",
    "a"
   ]
  },
  {
   "cell_type": "code",
   "execution_count": 40,
   "id": "nutritional-stake",
   "metadata": {},
   "outputs": [
    {
     "data": {
      "text/plain": [
       "'data\\ndetection\\ndetects\\nfatigue\\nfatigued\\nmodeling\\nmodel\\nfeature\\nfeatures\\nproject\\nprojects\\nteam\\nsegmentation\\nfraud\\nstatistical\\nassociate\\nassociation\\nexperience leveraging machine learning models\\ntechniques\\nincome\\ncompelling\\ndefaulters\\ndefault\\nprices\\ngithub\\nenron\\nstatements\\nproblem\\nsampling technique\\nuniversity\\nimproved academic performance\\nagriculture equipment manufacturing\\nlab\\nflorida\\nanalyst\\nmatlab\\nprasanth\\ntoolbox\\nfinal price\\nbusiness\\netl application\\naug\\nassistant\\nreduction\\nscikitlearn\\nsql\\nreddy\\nteaching\\npresent\\ncalifornia\\ngraduate\\ndriver\\nneural\\nhadoop\\nnov\\ngrowth\\ntechnologies\\npatur\\nload\\ntensorflow\\nbuilt multiple\\nprovided\\nproduct\\nproducts\\ntech\\nregistered\\ncross\\nelectronics\\ncgs\\nfraudulent\\npower\\ndataset\\npassionate advocate\\nsas\\nactivity\\nimbalanced\\nhyper tuning\\nhousing\\nbenchmarked\\nspark\\nvishnuprasanth\\npreparation turnover\\nkeras\\noracle\\ncard\\nled\\nhue\\nudacity certified\\ndeep\\njune\\nlinkedin\\ngpa\\nperson\\nskills\\njan\\namrita\\nutilized historical\\napplying\\nexpected\\neducation\\nscience\\nintuition\\nregression\\nvisualization\\nanalysis'"
      ]
     },
     "execution_count": 40,
     "metadata": {},
     "output_type": "execute_result"
    }
   ],
   "source": [
    "b = keywords(resume1, ratio =0.7)\n",
    "b"
   ]
  },
  {
   "cell_type": "code",
   "execution_count": null,
   "id": "concerned-salem",
   "metadata": {},
   "outputs": [],
   "source": [
    "c = []\n",
    "for i in a.split('\\n'):\n",
    "    for j in i.split(' '):\n",
    "        c.append(j)\n",
    "print(c)        "
   ]
  },
  {
   "cell_type": "code",
   "execution_count": 42,
   "id": "needed-jewel",
   "metadata": {},
   "outputs": [
    {
     "name": "stdout",
     "output_type": "stream",
     "text": [
      "['data', 'detection', 'detects', 'fatigue', 'fatigued', 'modeling', 'model', 'feature', 'features', 'project', 'projects', 'team', 'segmentation', 'fraud', 'statistical', 'associate', 'association', 'experience', 'leveraging', 'machine', 'learning', 'models', 'techniques', 'income', 'compelling', 'defaulters', 'default', 'prices', 'github', 'enron', 'statements', 'problem', 'sampling', 'technique', 'university', 'improved', 'academic', 'performance', 'agriculture', 'equipment', 'manufacturing', 'lab', 'florida', 'analyst', 'matlab', 'prasanth', 'toolbox', 'final', 'price', 'business', 'etl', 'application', 'aug', 'assistant', 'reduction', 'scikitlearn', 'sql', 'reddy', 'teaching', 'present', 'california', 'graduate', 'driver', 'neural', 'hadoop', 'nov', 'growth', 'technologies', 'patur', 'load', 'tensorflow', 'built', 'multiple', 'provided', 'product', 'products', 'tech', 'registered', 'cross', 'electronics', 'cgs', 'fraudulent', 'power', 'dataset', 'passionate', 'advocate', 'sas', 'activity', 'imbalanced', 'hyper', 'tuning', 'housing', 'benchmarked', 'spark', 'vishnuprasanth', 'preparation', 'turnover', 'keras', 'oracle', 'card', 'led', 'hue', 'udacity', 'certified', 'deep', 'june', 'linkedin', 'gpa', 'person', 'skills', 'jan', 'amrita', 'utilized', 'historical', 'applying', 'expected', 'education', 'science', 'intuition', 'regression', 'visualization', 'analysis']\n"
     ]
    }
   ],
   "source": [
    "d = []\n",
    "for i in b.split('\\n'):\n",
    "    for j in i.split(' '):\n",
    "        d.append(j)\n",
    "print(d)"
   ]
  },
  {
   "cell_type": "markdown",
   "id": "specified-stanford",
   "metadata": {},
   "source": [
    "#### Function to see whether resume covers all the important keywords mentioned in JD"
   ]
  },
  {
   "cell_type": "code",
   "execution_count": 43,
   "id": "standing-appointment",
   "metadata": {},
   "outputs": [
    {
     "name": "stdout",
     "output_type": "stream",
     "text": [
      "Present words are:  ['data', 'visualization', 'experience', 'analysis']\n",
      "Absent words are:  ['pandas', 'sciences', 'tools', 'problems', 'bonus', 'design', 'written', 'years', 'results', 'clearly', 'large', 'nlp', 'tooling', 'strong', 'knowledge', 'quantitative', 'field', 'advanced', 'degree', 'tableau', 'looker', 'statistics', 'engineering']\n"
     ]
    }
   ],
   "source": [
    "present = []\n",
    "absent = []\n",
    "for i in c:\n",
    "    if i in d:\n",
    "        present.append(i) \n",
    "    else:\n",
    "        absent.append(i)\n",
    "print(\"Present words are: \", present)\n",
    "print(\"Absent words are: \", absent)"
   ]
  },
  {
   "cell_type": "markdown",
   "id": "extreme-caribbean",
   "metadata": {},
   "source": [
    "### Part-3 Classification of Skills "
   ]
  },
  {
   "cell_type": "code",
   "execution_count": 5,
   "id": "impossible-check",
   "metadata": {},
   "outputs": [],
   "source": [
    "from spacy.matcher import PhraseMatcher"
   ]
  },
  {
   "cell_type": "code",
   "execution_count": 9,
   "id": "involved-youth",
   "metadata": {},
   "outputs": [],
   "source": [
    "pdfFileObj = open(\"D:/FullTime-Application/data-engineer/Coprey/SurajPatil-CV-2024.pdf\",'rb')"
   ]
  },
  {
   "cell_type": "code",
   "execution_count": 14,
   "id": "jewish-burke",
   "metadata": {},
   "outputs": [],
   "source": [
    "pdfReader = PyPDF2.PdfFileReader(pdfFileObj)"
   ]
  },
  {
   "cell_type": "code",
   "execution_count": 15,
   "id": "funny-permit",
   "metadata": {},
   "outputs": [],
   "source": [
    "text=\"\"\n",
    "count=0"
   ]
  },
  {
   "cell_type": "code",
   "execution_count": 16,
   "id": "brilliant-objective",
   "metadata": {},
   "outputs": [],
   "source": [
    "num_pages = 1"
   ]
  },
  {
   "cell_type": "code",
   "execution_count": 17,
   "id": "committed-hungary",
   "metadata": {},
   "outputs": [],
   "source": [
    "while count < num_pages:\n",
    "    pageObj = pdfReader.getPage(count)\n",
    "    count +=1\n",
    "    text += pageObj.extractText()"
   ]
  },
  {
   "cell_type": "code",
   "execution_count": 26,
   "id": "scientific-pacific",
   "metadata": {},
   "outputs": [],
   "source": [
    "import re\n",
    "import string\n",
    "text = text.lower()\n",
    "text = re.sub(r'\\d+','',text)\n",
    "text = text.translate(str.maketrans('','',string.punctuation))"
   ]
  },
  {
   "cell_type": "code",
   "execution_count": 27,
   "id": "791517d8",
   "metadata": {},
   "outputs": [
    {
     "data": {
      "text/plain": [
       "'suraj patil\\naddress  steinweg  emden  germany\\nphone  \\nemail notifysurajpatilgmailcom\\ndate of birth \\nnationality indian\\nmarital status single\\nlinkedin linkedincominsurajpatila\\neducation\\n present master of engineering – business intelligence and data analytics\\nuniversity of applied science emdenleer germany\\ngrade \\nkey modules \\n• machine learning  supervised learning unsupervised learning deep learning\\n• data management  data warehousing data storage data lake cloud data\\nstrategy data architecture metadata management and data governance\\n• digitalization  automation  digitalization and networking of industrial\\nproductionsecosystems according to the industry  specifications\\n• business analytics – framing allocating analytics preparation project\\n team management\\n• computer science – python programmingcoding software engineering\\nalgorithms software patterns matlab simulations\\n• erp systems sap shana fiori  pp mm sd fi modules\\n• introduction to data sciences business management  strategic\\nmanagement  project t  project b\\n –  bachelor study  information technology\\nuniversity of mumbai mumbai india\\ngrade \\nkey modules  object oriented programming  database management system \\ndata structures  operating systems  open source technology \\nbig data analytics  data mining business intelligence  image\\nprocessing\\nbachelor thesis  music suggestion based on mood using tensorflow deep learning t\\ndescription  system trained with voice samples of  actors in eight emotions the\\nmodel testing was done using voice inputs of the enduser to be then be\\nanalyzed and classified into one of these emotions and the relative\\nmusic for that particular mood will be played as a result\\nprofessional experience\\n –  software consultant\\n years  months quinnox consultancy services mumbai india\\nan agile businessresultsdriven digital technology partner for forwardthinking enterprises\\n• responsible for java back office development serialization of build and deploy\\nthrough azure devops oracle data migration and consistency\\n• performing regression testing system integration testing sit server health checks\\nmonitoring for production and nonproduction servers product demos\\n• python developer robotic process automation uipath development machine\\nlearning and deep learningknowledge  skills\\nsoftware skills \\n• programming and technology java  jdbc sql oracle c python  linux\\nunix shell scripting ksh sh azure devops machine learning modelling\\ntensorflow robotic process automationrpa\\n• software skills sql developer calypso adenza v v v  calypso automated\\ntesting tool cattv v uipath studio rpa\\n• data analysis oracle sql developer sybase excel tableau power bi\\n• devops tools atlassian confluence jira github bitbucket scrum board agile\\nwaterfall\\n• cloud computing microsoft azure aws\\n• erp systems sap gui fiori\\n• sap modules production planning material management sales  distribution\\nfinance  accounting\\n• microsoft office word excel powerpoint\\n• presentational software prezi signavio\\nachievements \\n• received award performer of the year for exemplary work in the year  from\\nquinnox consultancy services\\n• member of the team which received ‘delivery team of the year’ award for outstanding\\ncontribution on client project for the year \\ncertificates \\n• certified microsoft azure administrator associate for  to  certification\\nnumber h\\n• udemy tensor flow for deep learning with python on june \\nlanguages \\n• english c business fluent\\n• deutsch a intermediate\\npersonal competence \\n• team worker • time management\\n• leadership • perseverance\\n• innovative • trustworthiness\\nacademic projects\\n• machine learning project car license plate identification with a jetson nano\\n• business analytics project personality prediction through curriculum vitaecv\\nsuraj patil\\nemden '"
      ]
     },
     "execution_count": 27,
     "metadata": {},
     "output_type": "execute_result"
    }
   ],
   "source": [
    "text"
   ]
  },
  {
   "cell_type": "code",
   "execution_count": 19,
   "id": "aging-thinking",
   "metadata": {},
   "outputs": [],
   "source": [
    "# Created dictionary with five concentrations of Data Science\n",
    "\n",
    "terms = {'Data Engineering & Warehousing ':['build', 'maintain', 'data', 'pipelines', 'engineering', 'organize', \n",
    "                                            'large','integrity','testing', 'validation', 'Postgres DBs', 'Kinesis',  \n",
    "                                            'APIs', 'Gathering', 'ETL', 'Modeling','data warehouse', 'integrate', \n",
    "                                            'SQL', 'Server', 'design', 'solution', 'ad-hoc', 'streamline','extraction', \n",
    "                                            'troubleshoot', 'architecture', 'endpoints', 'development', 'lake', 'architecture',\n",
    "                                            'databases', 'NoSQL', 'exploration'],      \n",
    "        'Data Mining & Statistical Analysis':['SAS', 'ANOVA', 'statistical', 'methodologies', 'regression', 'data mining',\n",
    "                                             'problem-solving', 'theories', 'test', 'hypotheses', 'anamoly-detection',\n",
    "                                             'SPSS', 'RStudio', 'quantitative', 'analyses', 'model', 'mathematics', 'statistic',\n",
    "                                             'techniques', 'Bayesian', 'research', 'sampling', 'findings', 'analysis', 'R',\n",
    "                                             'conduct', 'insights', 'statistical integrity', 'math', 'identify', 'analyze',\n",
    "                                             'trend', 'stake-holders', 'MATLAB', 'Inferential Statistics','Multivariate Analysis', \n",
    "                                              'Linear','Non-linear', 'mortality', 'risk factors', 'survey'],\n",
    "        'Cloud & Distributed Computing':['multi-cloud', 'develop','cloud solutions', 'domain','architects', 'technical', 'cloud',\n",
    "                                        'architecture','engineering', 'TOGAF','Zachman', 'Policies','Governance', 'Strategies',\n",
    "                                        'AWS', 'Redshift', 'PostgresQL', 'Oracle', 'cloud based', 'OLTP''metadata','OLAP', 'GCP',\n",
    "                                        'Spark', 'APIs', 'Python', 'framework', 'understanding', 'data-driven', 'Azure', 'platform',\n",
    "                                        'design', 'domain', 'tool', 'trend', 'deployment', 'application','build','environment','DevOps',\n",
    "                                         'pipeline', 'manage', 'server', 'services'],\n",
    "        'ML & AI':['structured', 'unstructured', 'kafka', 'spark', 'datapieline', 'big data','technologies', 'hive','hadoop','PySpark', \n",
    "                   'Python', 'SQL', 'MySQL', 'databases','tools', 'AWS', 'GCP', 'information retrieval', 'machine learning', 'features', \n",
    "                   'engineering','data mining', 'data processing', 'large', 'NLP', 'text', 'analytical skills', 'deployment','Git', 'Linux', \n",
    "                   'Windows','C','C++','Java','DevOps','distributed', 'software','development','requirements', 'experience', 'Tensor Flow', \n",
    "                   'PyTorch','supervised', 'unsupervised', 'building','evaluation', 'ML libraries','frameworks', 'exploratory analyses',\n",
    "                   'traditional','techniques','AI', 'algorithms', 'analyze', 'develop', 'evaluate','classification','library'],\n",
    "        'Data Visualization':['analytics','BI Tools','chart','big data','business intelligence','power BI','BOBJ','visualization','data',\n",
    "                              'database','data mining','data science','charts','hadoop','graphs','MS Excel','pivot-tables','machine learning',\n",
    "                              'creative','nosql','nlp','predictive','insights','python','r','sql','tableau','text mining','findings', 'communication', \n",
    "                              'skills', 'statistical', 'data-driven', 'SPSS', 'Alteryx', 'business', 'identify', 'dashboard','Bash','statistical',\n",
    "                             'resolve', 'translate', 'summerize', 'analyst', 'ggplot2', 'reporting', 'business', 'result']}\n"
   ]
  },
  {
   "cell_type": "code",
   "execution_count": 30,
   "id": "white-church",
   "metadata": {},
   "outputs": [
    {
     "ename": "ValueError",
     "evalue": "Shape of passed values is (1, 1), indices imply (5, 1)",
     "output_type": "error",
     "traceback": [
      "\u001b[1;31m---------------------------------------------------------------------------\u001b[0m",
      "\u001b[1;31mValueError\u001b[0m                                Traceback (most recent call last)",
      "Cell \u001b[1;32mIn[30], line 40\u001b[0m\n\u001b[0;32m     38\u001b[0m             dv \u001b[38;5;241m+\u001b[39m\u001b[38;5;241m=\u001b[39m\u001b[38;5;241m1\u001b[39m\n\u001b[0;32m     39\u001b[0m     scores\u001b[38;5;241m.\u001b[39mappend(dv)\n\u001b[1;32m---> 40\u001b[0m summary \u001b[38;5;241m=\u001b[39m \u001b[43mpd\u001b[49m\u001b[38;5;241;43m.\u001b[39;49m\u001b[43mDataFrame\u001b[49m\u001b[43m(\u001b[49m\u001b[43mscores\u001b[49m\u001b[43m,\u001b[49m\u001b[43mindex\u001b[49m\u001b[38;5;241;43m=\u001b[39;49m\u001b[43mterms\u001b[49m\u001b[38;5;241;43m.\u001b[39;49m\u001b[43mkeys\u001b[49m\u001b[43m(\u001b[49m\u001b[43m)\u001b[49m\u001b[43m,\u001b[49m\u001b[43mcolumns\u001b[49m\u001b[38;5;241;43m=\u001b[39;49m\u001b[43m[\u001b[49m\u001b[38;5;124;43m'\u001b[39;49m\u001b[38;5;124;43mscore\u001b[39;49m\u001b[38;5;124;43m'\u001b[39;49m\u001b[43m]\u001b[49m\u001b[43m)\u001b[49m\u001b[38;5;241m.\u001b[39msort_values(by\u001b[38;5;241m=\u001b[39m\u001b[38;5;124m'\u001b[39m\u001b[38;5;124mscore\u001b[39m\u001b[38;5;124m'\u001b[39m,ascending\u001b[38;5;241m=\u001b[39m\u001b[38;5;28;01mFalse\u001b[39;00m)\n",
      "File \u001b[1;32mc:\\Users\\Suraj\\AppData\\Local\\Programs\\Python\\Python311\\Lib\\site-packages\\pandas\\core\\frame.py:798\u001b[0m, in \u001b[0;36mDataFrame.__init__\u001b[1;34m(self, data, index, columns, dtype, copy)\u001b[0m\n\u001b[0;32m    790\u001b[0m         mgr \u001b[38;5;241m=\u001b[39m arrays_to_mgr(\n\u001b[0;32m    791\u001b[0m             arrays,\n\u001b[0;32m    792\u001b[0m             columns,\n\u001b[1;32m   (...)\u001b[0m\n\u001b[0;32m    795\u001b[0m             typ\u001b[38;5;241m=\u001b[39mmanager,\n\u001b[0;32m    796\u001b[0m         )\n\u001b[0;32m    797\u001b[0m     \u001b[38;5;28;01melse\u001b[39;00m:\n\u001b[1;32m--> 798\u001b[0m         mgr \u001b[38;5;241m=\u001b[39m \u001b[43mndarray_to_mgr\u001b[49m\u001b[43m(\u001b[49m\n\u001b[0;32m    799\u001b[0m \u001b[43m            \u001b[49m\u001b[43mdata\u001b[49m\u001b[43m,\u001b[49m\n\u001b[0;32m    800\u001b[0m \u001b[43m            \u001b[49m\u001b[43mindex\u001b[49m\u001b[43m,\u001b[49m\n\u001b[0;32m    801\u001b[0m \u001b[43m            \u001b[49m\u001b[43mcolumns\u001b[49m\u001b[43m,\u001b[49m\n\u001b[0;32m    802\u001b[0m \u001b[43m            \u001b[49m\u001b[43mdtype\u001b[49m\u001b[38;5;241;43m=\u001b[39;49m\u001b[43mdtype\u001b[49m\u001b[43m,\u001b[49m\n\u001b[0;32m    803\u001b[0m \u001b[43m            \u001b[49m\u001b[43mcopy\u001b[49m\u001b[38;5;241;43m=\u001b[39;49m\u001b[43mcopy\u001b[49m\u001b[43m,\u001b[49m\n\u001b[0;32m    804\u001b[0m \u001b[43m            \u001b[49m\u001b[43mtyp\u001b[49m\u001b[38;5;241;43m=\u001b[39;49m\u001b[43mmanager\u001b[49m\u001b[43m,\u001b[49m\n\u001b[0;32m    805\u001b[0m \u001b[43m        \u001b[49m\u001b[43m)\u001b[49m\n\u001b[0;32m    806\u001b[0m \u001b[38;5;28;01melse\u001b[39;00m:\n\u001b[0;32m    807\u001b[0m     mgr \u001b[38;5;241m=\u001b[39m dict_to_mgr(\n\u001b[0;32m    808\u001b[0m         {},\n\u001b[0;32m    809\u001b[0m         index,\n\u001b[1;32m   (...)\u001b[0m\n\u001b[0;32m    812\u001b[0m         typ\u001b[38;5;241m=\u001b[39mmanager,\n\u001b[0;32m    813\u001b[0m     )\n",
      "File \u001b[1;32mc:\\Users\\Suraj\\AppData\\Local\\Programs\\Python\\Python311\\Lib\\site-packages\\pandas\\core\\internals\\construction.py:337\u001b[0m, in \u001b[0;36mndarray_to_mgr\u001b[1;34m(values, index, columns, dtype, copy, typ)\u001b[0m\n\u001b[0;32m    332\u001b[0m \u001b[38;5;66;03m# _prep_ndarraylike ensures that values.ndim == 2 at this point\u001b[39;00m\n\u001b[0;32m    333\u001b[0m index, columns \u001b[38;5;241m=\u001b[39m _get_axes(\n\u001b[0;32m    334\u001b[0m     values\u001b[38;5;241m.\u001b[39mshape[\u001b[38;5;241m0\u001b[39m], values\u001b[38;5;241m.\u001b[39mshape[\u001b[38;5;241m1\u001b[39m], index\u001b[38;5;241m=\u001b[39mindex, columns\u001b[38;5;241m=\u001b[39mcolumns\n\u001b[0;32m    335\u001b[0m )\n\u001b[1;32m--> 337\u001b[0m \u001b[43m_check_values_indices_shape_match\u001b[49m\u001b[43m(\u001b[49m\u001b[43mvalues\u001b[49m\u001b[43m,\u001b[49m\u001b[43m \u001b[49m\u001b[43mindex\u001b[49m\u001b[43m,\u001b[49m\u001b[43m \u001b[49m\u001b[43mcolumns\u001b[49m\u001b[43m)\u001b[49m\n\u001b[0;32m    339\u001b[0m \u001b[38;5;28;01mif\u001b[39;00m typ \u001b[38;5;241m==\u001b[39m \u001b[38;5;124m\"\u001b[39m\u001b[38;5;124marray\u001b[39m\u001b[38;5;124m\"\u001b[39m:\n\u001b[0;32m    340\u001b[0m     \u001b[38;5;28;01mif\u001b[39;00m \u001b[38;5;28missubclass\u001b[39m(values\u001b[38;5;241m.\u001b[39mdtype\u001b[38;5;241m.\u001b[39mtype, \u001b[38;5;28mstr\u001b[39m):\n",
      "File \u001b[1;32mc:\\Users\\Suraj\\AppData\\Local\\Programs\\Python\\Python311\\Lib\\site-packages\\pandas\\core\\internals\\construction.py:408\u001b[0m, in \u001b[0;36m_check_values_indices_shape_match\u001b[1;34m(values, index, columns)\u001b[0m\n\u001b[0;32m    406\u001b[0m passed \u001b[38;5;241m=\u001b[39m values\u001b[38;5;241m.\u001b[39mshape\n\u001b[0;32m    407\u001b[0m implied \u001b[38;5;241m=\u001b[39m (\u001b[38;5;28mlen\u001b[39m(index), \u001b[38;5;28mlen\u001b[39m(columns))\n\u001b[1;32m--> 408\u001b[0m \u001b[38;5;28;01mraise\u001b[39;00m \u001b[38;5;167;01mValueError\u001b[39;00m(\u001b[38;5;124mf\u001b[39m\u001b[38;5;124m\"\u001b[39m\u001b[38;5;124mShape of passed values is \u001b[39m\u001b[38;5;132;01m{\u001b[39;00mpassed\u001b[38;5;132;01m}\u001b[39;00m\u001b[38;5;124m, indices imply \u001b[39m\u001b[38;5;132;01m{\u001b[39;00mimplied\u001b[38;5;132;01m}\u001b[39;00m\u001b[38;5;124m\"\u001b[39m)\n",
      "\u001b[1;31mValueError\u001b[0m: Shape of passed values is (1, 1), indices imply (5, 1)"
     ]
    }
   ],
   "source": [
    "de= 0\n",
    "dm = 0\n",
    "cc = 0\n",
    "mlai=0\n",
    "dv = 0\n",
    "\n",
    "scores = []\n",
    "\n",
    "for area in terms.keys():\n",
    "        \n",
    "    if area == 'Data Engineering & Warehousing':\n",
    "        for word in terms[area]:\n",
    "            if word in text:\n",
    "                de +=1\n",
    "        scores.append(de)\n",
    "        \n",
    "    elif area == 'Data Mining & Statistical Analysis':\n",
    "        for word in terms[area]:\n",
    "            if word in text:\n",
    "                dm +=1\n",
    "        scores.append(dm)\n",
    "        \n",
    "    elif area == 'Cloud & Distributed Computing':\n",
    "        for word in terms[area]:\n",
    "            if word in text:\n",
    "                cc +=1\n",
    "        scores.append(cc)\n",
    "    \n",
    "    elif area == 'ML & AI':\n",
    "        for word in terms[area]:\n",
    "            if word in text:\n",
    "                mlai +=1\n",
    "        scores.append(mlai)\n",
    "        \n",
    "    else:\n",
    "        for word in terms[area]:\n",
    "            if word in text:\n",
    "                dv +=1\n",
    "        scores.append(dv)\n",
    "summary = pd.DataFrame(scores,index=terms.keys(),columns=['score']).sort_values(by='score',ascending=False)\n"
   ]
  },
  {
   "cell_type": "code",
   "execution_count": 29,
   "id": "honey-disposition",
   "metadata": {},
   "outputs": [
    {
     "data": {
      "text/html": [
       "<div>\n",
       "<style scoped>\n",
       "    .dataframe tbody tr th:only-of-type {\n",
       "        vertical-align: middle;\n",
       "    }\n",
       "\n",
       "    .dataframe tbody tr th {\n",
       "        vertical-align: top;\n",
       "    }\n",
       "\n",
       "    .dataframe thead th {\n",
       "        text-align: right;\n",
       "    }\n",
       "</style>\n",
       "<table border=\"1\" class=\"dataframe\">\n",
       "  <thead>\n",
       "    <tr style=\"text-align: right;\">\n",
       "      <th></th>\n",
       "      <th>score</th>\n",
       "    </tr>\n",
       "  </thead>\n",
       "  <tbody>\n",
       "    <tr>\n",
       "      <th>Data Visualization</th>\n",
       "      <td>24</td>\n",
       "    </tr>\n",
       "    <tr>\n",
       "      <th>ML &amp; AI</th>\n",
       "      <td>13</td>\n",
       "    </tr>\n",
       "    <tr>\n",
       "      <th>Cloud &amp; Distributed Computing</th>\n",
       "      <td>9</td>\n",
       "    </tr>\n",
       "    <tr>\n",
       "      <th>Data Engineering &amp; Warehousing</th>\n",
       "      <td>8</td>\n",
       "    </tr>\n",
       "    <tr>\n",
       "      <th>Data Mining &amp; Statistical Analysis</th>\n",
       "      <td>6</td>\n",
       "    </tr>\n",
       "  </tbody>\n",
       "</table>\n",
       "</div>"
      ],
      "text/plain": [
       "                                    score\n",
       "Data Visualization                     24\n",
       "ML & AI                                13\n",
       "Cloud & Distributed Computing           9\n",
       "Data Engineering & Warehousing          8\n",
       "Data Mining & Statistical Analysis      6"
      ]
     },
     "execution_count": 29,
     "metadata": {},
     "output_type": "execute_result"
    }
   ],
   "source": [
    "summary"
   ]
  },
  {
   "cell_type": "code",
   "execution_count": 25,
   "id": "9a579e1b",
   "metadata": {},
   "outputs": [
    {
     "data": {
      "image/png": "[encoded data removed]",
      "text/plain": [
       "<Figure size 700x700 with 1 Axes>"
      ]
     },
     "metadata": {},
     "output_type": "display_data"
    }
   ],
   "source": [
    "pie = plt.figure(figsize=(7,7))\n",
    "plt.pie(summary['score'], labels=summary.index, explode = (0.07,0,0,0,0), autopct='%1.0f%%',shadow=True,startangle=90)\n",
    "plt.title('Classification of Skills')\n",
    "plt.axis('equal')\n",
    "plt.show()"
   ]
  },
  {
   "cell_type": "code",
   "execution_count": 22,
   "id": "6c04e7c8",
   "metadata": {},
   "outputs": [
    {
     "name": "stdout",
     "output_type": "stream",
     "text": [
      "Resume Summary:\n",
      "**Education:**\n",
      "03/2022- Present Master of Engineering – Business Intelligence and Data Analytics\n",
      "University of Applied Science, Emden/Leer, Germany\n",
      "Grade: 2.1\n",
      "Key Modules: -\n",
      "• Machine Learning - Supervised Learning, Unsupervised Learning, Deep Learning\n",
      "• Data Management - Data Warehousing, Data Storage, Data Lake Cloud, Data\n",
      "Strategy, Data architecture, Metadata management, and Data Governance\n",
      "• Digitalization & Automation - Digitalization and Networking of Industrial\n",
      "Productions-Ecosystems according to the industry 4.0 specifications.\n",
      "• Business Analytics – Framing, Allocating, Analytics, Preparation, Project\n",
      "& Team Management,\n",
      "• Computer Science – Python Programming/Coding, Software Engineering,\n",
      "Algorithms, Software Patterns, MATLAB Simulations\n",
      "• ERP Systems- SAP S4/HANA/ Fiori - PP, MM, SD, FI modules.\n",
      "• Introduction to Data Sciences| Business management | Strategic\n",
      "Management | Project T | Project B\n",
      "06/2015 – 06/2019 Bachelor Study - Information Technology\n",
      "University of Mumbai, Mumbai, India\n",
      "Grade: 2.5\n",
      "Key Modules: - Object Oriented Programming | Database Management System |\n",
      "Data Structures | Operating Systems | Open Source Technology |\n",
      "Big Data Analytics | Data Mining Business Intelligence | Image\n",
      "Processing\n",
      "Bachelor Thesis: - Music suggestion based on mood using TensorFlow deep learning t.\n",
      "Description: - System trained with voice samples of 24 actors in eight emotions. The\n",
      "model testing was done using voice inputs of the end-user to be then be\n",
      "analyzed and classified into one of these emotions, and the relative\n",
      "music for that particular mood will be played as a result.\n",
      "• Machine Learning Project: Car License Plate Identification with a Jetson Nano\n",
      "• Business Analytics Project: Personality prediction through Curriculum Vitae(CV)\n",
      "Suraj Patil\n",
      "Emden, 13/03/23\n",
      "\n",
      "**Work Experience:**\n",
      "07/2019 – 02/2022 Software Consultant\n",
      "(2 Years 7 Months) Quinnox Consultancy Services, Mumbai, India\n",
      "An agile, business-results-driven digital technology partner for forward-thinking enterprises\n",
      "• Responsible for JAVA back office development, serialization of build and deploy\n",
      "through azure DevOps, Oracle data migration and consistency\n",
      "• Performing Regression testing, System Integration Testing (SIT), Server health checks,\n",
      "monitoring for production and nonproduction servers, product demos\n",
      "• Python developer, Robotic Process Automation UIPATH development, Machine\n",
      "\n",
      "**Skills:**\n",
      "• Programming and Technology: JAVA 1.8, JDBC, SQL, Oracle 12c, Python 3.9, Linux,\n",
      "UNIX, Shell Scripting (ksh, sh), Azure DevOps, Machine Learning Modelling,\n",
      "TensorFlow, Robotic Process Automation(RPA)\n",
      "Testing Tool (CATTV4, V5), UiPath Studio (RPA)\n",
      "• Data Analysis: Oracle SQL developer, Sybase, Excel, Tableau, Power BI\n",
      "• DevOps tools: Atlassian confluence, Jira, GitHub, bitbucket, Scrum board, Agile,\n",
      "Waterfall\n",
      "• Cloud Computing: Microsoft Azure, AWS\n",
      "• ERP systems: SAP (GUI, Fiori)\n",
      "• SAP Modules: Production Planning, Material Management, Sales & Distribution,\n",
      "Finance & Accounting.\n",
      "• Microsoft office: Word, Excel, PowerPoint.\n",
      "• Presentational Software: Prezi, Signavio\n",
      "Achievements: -\n",
      "• Received award \"Performer of the Year\" for exemplary work in the year 2020 from\n",
      "Quinnox consultancy services\n",
      "• Member of the team which received ‘Delivery team of the year’ award for outstanding\n",
      "contribution on client project for the year 2019\n",
      "Certificates: -\n",
      "• Certified Microsoft Azure Administrator Associate for 2021 to 2023 Certification\n",
      "Number: H769-1991\n",
      "• Udemy Tensor Flow for Deep Learning with Python on June 2020\n",
      "Languages: -\n",
      "• English (C1) Business Fluent\n",
      "• Deutsch (A2) Intermediate\n",
      "Personal Competence: -\n",
      "• Team worker • Time Management\n",
      "• Leadership • Perseverance\n",
      "• Innovative • Trustworthiness\n",
      "\n",
      "\n",
      "ChatGPT Prompt:\n",
      "I have a resume with the following details:\n",
      "\n",
      "**Education:**\n",
      "03/2022- Present Master of Engineering – Business Intelligence and Data Analytics\n",
      "University of Applied Science, Emden/Leer, Germany\n",
      "Grade: 2.1\n",
      "Key Modules: -\n",
      "• Machine Learning - Supervised Learning, Unsupervised Learning, Deep Learning\n",
      "• Data Management - Data Warehousing, Data Storage, Data Lake Cloud, Data\n",
      "Strategy, Data architecture, Metadata management, and Data Governance\n",
      "• Digitalization & Automation - Digitalization and Networking of Industrial\n",
      "Productions-Ecosystems according to the industry 4.0 specifications.\n",
      "• Business Analytics – Framing, Allocating, Analytics, Preparation, Project\n",
      "& Team Management,\n",
      "• Computer Science – Python Programming/Coding, Software Engineering,\n",
      "Algorithms, Software Patterns, MATLAB Simulations\n",
      "• ERP Systems- SAP S4/HANA/ Fiori - PP, MM, SD, FI modules.\n",
      "• Introduction to Data Sciences| Business management | Strategic\n",
      "Management | Project T | Project B\n",
      "06/2015 – 06/2019 Bachelor Study - Information Technology\n",
      "University of Mumbai, Mumbai, India\n",
      "Grade: 2.5\n",
      "Key Modules: - Object Oriented Programming | Database Management System |\n",
      "Data Structures | Operating Systems | Open Source Technology |\n",
      "Big Data Analytics | Data Mining Business Intelligence | Image\n",
      "Processing\n",
      "Bachelor Thesis: - Music suggestion based on mood using TensorFlow deep learning t.\n",
      "Description: - System trained with voice samples of 24 actors in eight emotions. The\n",
      "model testing was done using voice inputs of the end-user to be then be\n",
      "analyzed and classified into one of these emotions, and the relative\n",
      "music for that particular mood will be played as a result.\n",
      "• Machine Learning Project: Car License Plate Identification with a Jetson Nano\n",
      "• Business Analytics Project: Personality prediction through Curriculum Vitae(CV)\n",
      "Suraj Patil\n",
      "Emden, 13/03/23\n",
      "\n",
      "**Work Experience:**\n",
      "07/2019 – 02/2022 Software Consultant\n",
      "(2 Years 7 Months) Quinnox Consultancy Services, Mumbai, India\n",
      "An agile, business-results-driven digital technology partner for forward-thinking enterprises\n",
      "• Responsible for JAVA back office development, serialization of build and deploy\n",
      "through azure DevOps, Oracle data migration and consistency\n",
      "• Performing Regression testing, System Integration Testing (SIT), Server health checks,\n",
      "monitoring for production and nonproduction servers, product demos\n",
      "• Python developer, Robotic Process Automation UIPATH development, Machine\n",
      "\n",
      "**Skills:**\n",
      "• Programming and Technology: JAVA 1.8, JDBC, SQL, Oracle 12c, Python 3.9, Linux,\n",
      "UNIX, Shell Scripting (ksh, sh), Azure DevOps, Machine Learning Modelling,\n",
      "TensorFlow, Robotic Process Automation(RPA)\n",
      "Testing Tool (CATTV4, V5), UiPath Studio (RPA)\n",
      "• Data Analysis: Oracle SQL developer, Sybase, Excel, Tableau, Power BI\n",
      "• DevOps tools: Atlassian confluence, Jira, GitHub, bitbucket, Scrum board, Agile,\n",
      "Waterfall\n",
      "• Cloud Computing: Microsoft Azure, AWS\n",
      "• ERP systems: SAP (GUI, Fiori)\n",
      "• SAP Modules: Production Planning, Material Management, Sales & Distribution,\n",
      "Finance & Accounting.\n",
      "• Microsoft office: Word, Excel, PowerPoint.\n",
      "• Presentational Software: Prezi, Signavio\n",
      "Achievements: -\n",
      "• Received award \"Performer of the Year\" for exemplary work in the year 2020 from\n",
      "Quinnox consultancy services\n",
      "• Member of the team which received ‘Delivery team of the year’ award for outstanding\n",
      "contribution on client project for the year 2019\n",
      "Certificates: -\n",
      "• Certified Microsoft Azure Administrator Associate for 2021 to 2023 Certification\n",
      "Number: H769-1991\n",
      "• Udemy Tensor Flow for Deep Learning with Python on June 2020\n",
      "Languages: -\n",
      "• English (C1) Business Fluent\n",
      "• Deutsch (A2) Intermediate\n",
      "Personal Competence: -\n",
      "• Team worker • Time Management\n",
      "• Leadership • Perseverance\n",
      "• Innovative • Trustworthiness\n",
      "\n",
      "You can ask me any questions related to this resume.\n"
     ]
    }
   ],
   "source": [
    "import pdfplumber\n",
    "import spacy\n",
    "\n",
    "def extract_text_from_pdf(file_path):\n",
    "    text = \"\"\n",
    "    with pdfplumber.open(file_path) as pdf:\n",
    "        for page in pdf.pages:\n",
    "            text += page.extract_text()\n",
    "    return text\n",
    "\n",
    "def parse_resume(text):\n",
    "    nlp = spacy.load(\"en_core_web_sm\")\n",
    "    doc = nlp(text)\n",
    "    education = []\n",
    "    work_experience = []\n",
    "    skills = []\n",
    "    \n",
    "    edu_keywords = [\"education\", \"qualifications\", \"academic\"]\n",
    "    work_keywords = [\"experience\", \"employment\", \"work history\", \"professional\"]\n",
    "    skill_keywords = [\"skills\", \"technologies\", \"proficiencies\"]\n",
    "    \n",
    "    current_section = None\n",
    "    \n",
    "    for line in text.split(\"\\n\"):\n",
    "        line_lower = line.lower()\n",
    "        \n",
    "        if any(keyword in line_lower for keyword in edu_keywords):\n",
    "            current_section = \"education\"\n",
    "        elif any(keyword in line_lower for keyword in work_keywords):\n",
    "            current_section = \"work_experience\"\n",
    "        elif any(keyword in line_lower for keyword in skill_keywords):\n",
    "            current_section = \"skills\"\n",
    "        elif current_section == \"education\":\n",
    "            education.append(line)\n",
    "        elif current_section == \"work_experience\":\n",
    "            work_experience.append(line)\n",
    "        elif current_section == \"skills\":\n",
    "            skills.append(line)\n",
    "    \n",
    "    return {\n",
    "        \"education\": \"\\n\".join(education),\n",
    "        \"work_experience\": \"\\n\".join(work_experience),\n",
    "        \"skills\": \"\\n\".join(skills)\n",
    "    }\n",
    "\n",
    "def generate_summary(parsed_data):\n",
    "    summary = (\n",
    "        f\"**Education:**\\n{parsed_data['education']}\\n\\n\"\n",
    "        f\"**Work Experience:**\\n{parsed_data['work_experience']}\\n\\n\"\n",
    "        f\"**Skills:**\\n{parsed_data['skills']}\\n\"\n",
    "    )\n",
    "    return summary\n",
    "\n",
    "def generate_chatgpt_prompt(parsed_data):\n",
    "    prompt = (\n",
    "        \"I have a resume with the following details:\\n\\n\"\n",
    "        f\"**Education:**\\n{parsed_data['education']}\\n\\n\"\n",
    "        f\"**Work Experience:**\\n{parsed_data['work_experience']}\\n\\n\"\n",
    "        f\"**Skills:**\\n{parsed_data['skills']}\\n\\n\"\n",
    "        \"You can ask me any questions related to this resume.\"\n",
    "    )\n",
    "    return prompt\n",
    "\n",
    "if __name__ == \"__main__\":\n",
    "    file_path = \"D:/Applications/CV/Suraj-Patil-2023-CV.pdf\"  # Replace with your resume file path\n",
    "    text = extract_text_from_pdf(file_path)\n",
    "    parsed_data = parse_resume(text)\n",
    "    summary = generate_summary(parsed_data)\n",
    "    chatgpt_prompt = generate_chatgpt_prompt(parsed_data)\n",
    "    \n",
    "    print(\"Resume Summary:\")\n",
    "    print(summary)\n",
    "    print(\"\\nChatGPT Prompt:\")\n",
    "    print(chatgpt_prompt)\n"
   ]
  },
  {
   "cell_type": "code",
   "execution_count": 8,
   "id": "6e917e20",
   "metadata": {},
   "outputs": [
    {
     "name": "stdout",
     "output_type": "stream",
     "text": [
      "Resume Summary:\n",
      "**Education:**\n",
      "['03/2022- Present Master of Engineering – Business Intelligence and Data Analytics', 'University of Applied Science, Emden/Leer, Germany', 'Grade: 2.1', 'Key Modules: -', '• Machine Learning - Supervised Learning, Unsupervised Learning, Deep Learning', '• Data Management - Data Warehousing, Data Storage, Data Lake Cloud, Data', 'Strategy, Data architecture, Metadata management, and Data Governance', '• Digitalization & Automation - Digitalization and Networking of Industrial', 'Productions-Ecosystems according to the industry 4.0 specifications.', '• Business Analytics – Framing, Allocating, Analytics, Preparation, Project', '& Team Management,', '• Computer Science – Python Programming/Coding, Software Engineering,', 'Algorithms, Software Patterns, MATLAB Simulations', '• ERP Systems- SAP S4/HANA/ Fiori - PP, MM, SD, FI modules.', '• Introduction to Data Sciences| Business management | Strategic', 'Management | Project T | Project B', '06/2015 – 06/2019 Bachelor Study - Information Technology', 'University of Mumbai, Mumbai, India', 'Grade: 2.5', 'Key Modules: - Object Oriented Programming | Database Management System |', 'Data Structures | Operating Systems | Open Source Technology |', 'Big Data Analytics | Data Mining Business Intelligence | Image', 'Processing', 'Bachelor Thesis: - Music suggestion based on mood using TensorFlow deep learning t.', 'Description: - System trained with voice samples of 24 actors in eight emotions. The', 'model testing was done using voice inputs of the end-user to be then be', 'analyzed and classified into one of these emotions, and the relative', 'music for that particular mood will be played as a result.', '• Machine Learning Project: Car License Plate Identification with a Jetson Nano', '• Business Analytics Project: Personality prediction through Curriculum Vitae(CV)', 'Suraj Patil', 'Emden, 13/03/23']\n",
      "\n",
      "**Work Experience:**\n",
      "['07/2019 – 02/2022 Software Consultant', '(2 Years 7 Months) Quinnox Consultancy Services, Mumbai, India', 'An agile, business-results-driven digital technology partner for forward-thinking enterprises', '• Responsible for JAVA back office development, serialization of build and deploy', 'through azure DevOps, Oracle data migration and consistency', '• Performing Regression testing, System Integration Testing (SIT), Server health checks,', 'monitoring for production and nonproduction servers, product demos', '• Python developer, Robotic Process Automation UIPATH development, Machine']\n",
      "\n",
      "**Skills:**\n",
      "['• Programming and Technology: JAVA 1.8, JDBC, SQL, Oracle 12c, Python 3.9, Linux,', 'UNIX, Shell Scripting (ksh, sh), Azure DevOps, Machine Learning Modelling,', 'TensorFlow, Robotic Process Automation(RPA)', 'Testing Tool (CATTV4, V5), UiPath Studio (RPA)', '• Data Analysis: Oracle SQL developer, Sybase, Excel, Tableau, Power BI', '• DevOps tools: Atlassian confluence, Jira, GitHub, bitbucket, Scrum board, Agile,', 'Waterfall', '• Cloud Computing: Microsoft Azure, AWS', '• ERP systems: SAP (GUI, Fiori)', '• SAP Modules: Production Planning, Material Management, Sales & Distribution,', 'Finance & Accounting.', '• Microsoft office: Word, Excel, PowerPoint.', '• Presentational Software: Prezi, Signavio', 'Achievements: -', '• Received award \"Performer of the Year\" for exemplary work in the year 2020 from', 'Quinnox consultancy services', '• Member of the team which received ‘Delivery team of the year’ award for outstanding', 'contribution on client project for the year 2019', 'Certificates: -', '• Certified Microsoft Azure Administrator Associate for 2021 to 2023 Certification', 'Number: H769-1991', '• Udemy Tensor Flow for Deep Learning with Python on June 2020', 'Languages: -', '• English (C1) Business Fluent', '• Deutsch (A2) Intermediate', 'Personal Competence: -', '• Team worker • Time Management', '• Leadership • Perseverance', '• Innovative • Trustworthiness']\n",
      "\n",
      "\n",
      "Education Table:\n",
      "                                            Education\n",
      "0   03/2022- Present Master of Engineering – Busin...\n",
      "1   University of Applied Science, Emden/Leer, Ger...\n",
      "2                                          Grade: 2.1\n",
      "3                                      Key Modules: -\n",
      "4   • Machine Learning - Supervised Learning, Unsu...\n",
      "5   • Data Management - Data Warehousing, Data Sto...\n",
      "6   Strategy, Data architecture, Metadata manageme...\n",
      "7   • Digitalization & Automation - Digitalization...\n",
      "8   Productions-Ecosystems according to the indust...\n",
      "9   • Business Analytics – Framing, Allocating, An...\n",
      "10                                 & Team Management,\n",
      "11  • Computer Science – Python Programming/Coding...\n",
      "12  Algorithms, Software Patterns, MATLAB Simulations\n",
      "13  • ERP Systems- SAP S4/HANA/ Fiori - PP, MM, SD...\n",
      "14  • Introduction to Data Sciences| Business mana...\n",
      "15                 Management | Project T | Project B\n",
      "16  06/2015 – 06/2019 Bachelor Study - Information...\n",
      "17                University of Mumbai, Mumbai, India\n",
      "18                                         Grade: 2.5\n",
      "19  Key Modules: - Object Oriented Programming | D...\n",
      "20  Data Structures | Operating Systems | Open Sou...\n",
      "21  Big Data Analytics | Data Mining Business Inte...\n",
      "22                                         Processing\n",
      "23  Bachelor Thesis: - Music suggestion based on m...\n",
      "24  Description: - System trained with voice sampl...\n",
      "25  model testing was done using voice inputs of t...\n",
      "26  analyzed and classified into one of these emot...\n",
      "27  music for that particular mood will be played ...\n",
      "28  • Machine Learning Project: Car License Plate ...\n",
      "29  • Business Analytics Project: Personality pred...\n",
      "30                                        Suraj Patil\n",
      "31                                    Emden, 13/03/23\n",
      "\n",
      "Work Experience Table:\n",
      "                                     Work Experience\n",
      "0              07/2019 – 02/2022 Software Consultant\n",
      "1  (2 Years 7 Months) Quinnox Consultancy Service...\n",
      "2  An agile, business-results-driven digital tech...\n",
      "3  • Responsible for JAVA back office development...\n",
      "4  through azure DevOps, Oracle data migration an...\n",
      "5  • Performing Regression testing, System Integr...\n",
      "6  monitoring for production and nonproduction se...\n",
      "7  • Python developer, Robotic Process Automation...\n",
      "\n",
      "Skills Table:\n",
      "                                               Skills\n",
      "0   • Programming and Technology: JAVA 1.8, JDBC, ...\n",
      "1   UNIX, Shell Scripting (ksh, sh), Azure DevOps,...\n",
      "2         TensorFlow, Robotic Process Automation(RPA)\n",
      "3      Testing Tool (CATTV4, V5), UiPath Studio (RPA)\n",
      "4   • Data Analysis: Oracle SQL developer, Sybase,...\n",
      "5   • DevOps tools: Atlassian confluence, Jira, Gi...\n",
      "6                                           Waterfall\n",
      "7             • Cloud Computing: Microsoft Azure, AWS\n",
      "8                     • ERP systems: SAP (GUI, Fiori)\n",
      "9   • SAP Modules: Production Planning, Material M...\n",
      "10                              Finance & Accounting.\n",
      "11       • Microsoft office: Word, Excel, PowerPoint.\n",
      "12         • Presentational Software: Prezi, Signavio\n",
      "13                                    Achievements: -\n",
      "14  • Received award \"Performer of the Year\" for e...\n",
      "15                       Quinnox consultancy services\n",
      "16  • Member of the team which received ‘Delivery ...\n",
      "17   contribution on client project for the year 2019\n",
      "18                                    Certificates: -\n",
      "19  • Certified Microsoft Azure Administrator Asso...\n",
      "20                                  Number: H769-1991\n",
      "21  • Udemy Tensor Flow for Deep Learning with Pyt...\n",
      "22                                       Languages: -\n",
      "23                     • English (C1) Business Fluent\n",
      "24                        • Deutsch (A2) Intermediate\n",
      "25                             Personal Competence: -\n",
      "26                    • Team worker • Time Management\n",
      "27                        • Leadership • Perseverance\n",
      "28                     • Innovative • Trustworthiness\n"
     ]
    }
   ],
   "source": [
    "import pdfplumber\n",
    "import spacy\n",
    "import pandas as pd\n",
    "\n",
    "def extract_text_from_pdf(file_path):\n",
    "    text = \"\"\n",
    "    with pdfplumber.open(file_path) as pdf:\n",
    "        for page in pdf.pages:\n",
    "            text += page.extract_text()\n",
    "    return text\n",
    "\n",
    "def parse_resume(text):\n",
    "    nlp = spacy.load(\"en_core_web_sm\")\n",
    "    doc = nlp(text)\n",
    "    education = []\n",
    "    work_experience = []\n",
    "    skills = []\n",
    "    \n",
    "    edu_keywords = [\"education\", \"qualifications\", \"academic\"]\n",
    "    work_keywords = [\"experience\", \"employment\", \"work history\", \"professional\"]\n",
    "    skill_keywords = [\"skills\", \"technologies\", \"proficiencies\"]\n",
    "    \n",
    "    current_section = None\n",
    "    \n",
    "    for line in text.split(\"\\n\"):\n",
    "        line_lower = line.lower()\n",
    "        \n",
    "        if any(keyword in line_lower for keyword in edu_keywords):\n",
    "            current_section = \"education\"\n",
    "        elif any(keyword in line_lower for keyword in work_keywords):\n",
    "            current_section = \"work_experience\"\n",
    "        elif any(keyword in line_lower for keyword in skill_keywords):\n",
    "            current_section = \"skills\"\n",
    "        elif current_section == \"education\":\n",
    "            education.append(line)\n",
    "        elif current_section == \"work_experience\":\n",
    "            work_experience.append(line)\n",
    "        elif current_section == \"skills\":\n",
    "            skills.append(line)\n",
    "    \n",
    "    return {\n",
    "        \"education\": education,\n",
    "        \"work_experience\": work_experience,\n",
    "        \"skills\": skills\n",
    "    }\n",
    "\n",
    "def generate_summary(parsed_data):\n",
    "    summary = (\n",
    "        f\"**Education:**\\n{parsed_data['education']}\\n\\n\"\n",
    "        f\"**Work Experience:**\\n{parsed_data['work_experience']}\\n\\n\"\n",
    "        f\"**Skills:**\\n{parsed_data['skills']}\\n\"\n",
    "    )\n",
    "    return summary\n",
    "\n",
    "\n",
    "def create_tables(parsed_data):\n",
    "    education_df = pd.DataFrame(parsed_data['education'], columns=[\"Education\"])\n",
    "    work_experience_df = pd.DataFrame(parsed_data['work_experience'], columns=[\"Work Experience\"])\n",
    "    skills_df = pd.DataFrame(parsed_data['skills'], columns=[\"Skills\"])\n",
    "    return education_df, work_experience_df, skills_df\n",
    "\n",
    "if __name__ == \"__main__\":\n",
    "    file_path = \"D:/Applications/CV/Suraj-Patil-2023-CV.pdf\"  # Replace with your resume file path\n",
    "    text = extract_text_from_pdf(file_path)\n",
    "    parsed_data = parse_resume(text)\n",
    "    summary = generate_summary(parsed_data)\n",
    "    education_df, work_experience_df, skills_df = create_tables(parsed_data)\n",
    "    \n",
    "    print(\"Resume Summary:\")\n",
    "    print(summary)\n",
    "\n",
    "    \n",
    "    print(\"\\nEducation Table:\")\n",
    "    print(education_df)\n",
    "    print(\"\\nWork Experience Table:\")\n",
    "    print(work_experience_df)\n",
    "    print(\"\\nSkills Table:\")\n",
    "    print(skills_df)\n"
   ]
  }
 ],
 "metadata": {
  "kernelspec": {
   "display_name": "Python 3",
   "language": "python",
   "name": "python3"
  },
  "language_info": {
   "codemirror_mode": {
    "name": "ipython",
    "version": 3
   },
   "file_extension": ".py",
   "mimetype": "text/x-python",
   "name": "python",
   "nbconvert_exporter": "python",
   "pygments_lexer": "ipython3",
   "version": "3.11.4"
  }
 },
 "nbformat": 4,
 "nbformat_minor": 5
}
